{
 "cells": [
  {
   "cell_type": "code",
   "execution_count": null,
   "id": "0d18ba2a",
   "metadata": {},
   "outputs": [],
   "source": [
    "import requests\n",
    "\n",
    "Api_url=\"https://api.open-notify.org/astros.json\"\n",
    "#response=requests.get(Api_url)\n",
    "#Printing response data\n",
    "#print(response.json())\n",
    "\n",
    "import time\n",
    "\n",
    "page = ''\n",
    "while page == '':\n",
    "    try:\n",
    "        page = requests.get(Api_url)\n",
    "        break\n",
    "    except:\n",
    "        print(\"Connection refused by the server..\")\n",
    "        print(\"Let me sleep for 5 seconds\")\n",
    "        print(\"ZZzzzz...\")\n",
    "        time.sleep(5)\n",
    "        print(\"Was a nice sleep, now let me continue...\")\n",
    "        continue"
   ]
  },
  {
   "cell_type": "code",
   "execution_count": null,
   "id": "86ce379d",
   "metadata": {},
   "outputs": [],
   "source": []
  }
 ],
 "metadata": {
  "kernelspec": {
   "display_name": "Python 3",
   "language": "python",
   "name": "python3"
  },
  "language_info": {
   "codemirror_mode": {
    "name": "ipython",
    "version": 3
   },
   "file_extension": ".py",
   "mimetype": "text/x-python",
   "name": "python",
   "nbconvert_exporter": "python",
   "pygments_lexer": "ipython3",
   "version": "3.8.8"
  }
 },
 "nbformat": 4,
 "nbformat_minor": 5
}
