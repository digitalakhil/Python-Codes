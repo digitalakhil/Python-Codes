{
 "cells": [
  {
   "cell_type": "code",
   "execution_count": 1,
   "id": "8121e1cd",
   "metadata": {},
   "outputs": [
    {
     "name": "stdout",
     "output_type": "stream",
     "text": [
      "Requirement already satisfied: pyqrcode in d:\\anaconda\\setup\\lib\\site-packages (1.2.1)\n",
      "Note: you may need to restart the kernel to use updated packages.\n"
     ]
    }
   ],
   "source": [
    "pip install pyqrcode"
   ]
  },
  {
   "cell_type": "code",
   "execution_count": 2,
   "id": "1ab8c47f",
   "metadata": {},
   "outputs": [
    {
     "name": "stdout",
     "output_type": "stream",
     "text": [
      "Requirement already satisfied: pypng in d:\\anaconda\\setup\\lib\\site-packages (0.0.20)\n",
      "Note: you may need to restart the kernel to use updated packages.\n"
     ]
    }
   ],
   "source": [
    "pip install pypng"
   ]
  },
  {
   "cell_type": "code",
   "execution_count": 8,
   "id": "33614e51",
   "metadata": {},
   "outputs": [
    {
     "name": "stdout",
     "output_type": "stream",
     "text": [
      "[QR] Enter text or linkhttps://witgyan.com\n"
     ]
    }
   ],
   "source": [
    "import os\n",
    "import png\n",
    "import pyqrcode\n",
    "from PIL import Image\n",
    "\n",
    "class QR_Gen(object):\n",
    "    def __init__(self, text):\n",
    "        self.qr_image=self.qr_generator(text)\n",
    "        \n",
    "    @staticmethod\n",
    "    def qr_generator(text):\n",
    "        qr_code=pyqrcode.create(text)\n",
    "        file_name=\"QR Code Result.png\"\n",
    "        save_path=os.path.join(os.path.expanduser('~'),'Desktop')\n",
    "        name=f\"{save_path}{file_name}.png\"\n",
    "        qr_code.png(name, scale=10)\n",
    "        image=Image.open(file_name)\n",
    "        image=image.resize((400,400),Image.ANTIALIAS)\n",
    "        image.show()\n",
    "        \n",
    "if __name__==\"__main__\":\n",
    "    QR_Gen(input(\"[QR] Enter text or link\"))\n",
    "    "
   ]
  },
  {
   "cell_type": "code",
   "execution_count": null,
   "id": "0ce2dd7d",
   "metadata": {},
   "outputs": [],
   "source": []
  },
  {
   "cell_type": "code",
   "execution_count": null,
   "id": "500a674d",
   "metadata": {},
   "outputs": [],
   "source": []
  }
 ],
 "metadata": {
  "kernelspec": {
   "display_name": "Python 3",
   "language": "python",
   "name": "python3"
  },
  "language_info": {
   "codemirror_mode": {
    "name": "ipython",
    "version": 3
   },
   "file_extension": ".py",
   "mimetype": "text/x-python",
   "name": "python",
   "nbconvert_exporter": "python",
   "pygments_lexer": "ipython3",
   "version": "3.8.8"
  }
 },
 "nbformat": 4,
 "nbformat_minor": 5
}
